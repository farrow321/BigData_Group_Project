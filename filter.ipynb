{
 "cells": [
  {
   "cell_type": "code",
   "id": "initial_id",
   "metadata": {
    "collapsed": true,
    "ExecuteTime": {
     "end_time": "2025-03-22T20:47:01.676793Z",
     "start_time": "2025-03-22T20:46:49.631895Z"
    }
   },
   "source": [
    "import pandas as pd\n",
    "df = pd.read_csv('beer_reviews.csv')\n",
    "df.dropna(axis=0,how='any',inplace=True)\n",
    "df_cleaned = df[~df.map(lambda x: ',' in str(x)).any(axis=1)]\n",
    "df_cleaned = df_cleaned[~df_cleaned.brewery_name.str.contains(',')]\n",
    "df_cleaned.to_csv('beer_reviews.csv',index=False)"
   ],
   "outputs": [],
   "execution_count": 16
  },
  {
   "metadata": {
    "ExecuteTime": {
     "end_time": "2025-03-22T20:46:28.308430Z",
     "start_time": "2025-03-22T20:46:28.303299Z"
    }
   },
   "cell_type": "code",
   "source": [
    "df_cleaned.loc[1523].astype(str)\n",
    "\n"
   ],
   "id": "2c2a0fa15495de2c",
   "outputs": [
    {
     "data": {
      "text/plain": [
       "index                                   1545\n",
       "brewery_id                              3407\n",
       "brewery_name          Clockwork Beer Co, The\n",
       "review_time                       1114374291\n",
       "review_overall                           3.5\n",
       "review_aroma                             3.0\n",
       "review_appearance                        2.5\n",
       "review_profilename                    foamer\n",
       "beer_style                   Euro Pale Lager\n",
       "review_palate                            4.0\n",
       "review_taste                             3.5\n",
       "beer_name                     Original Lager\n",
       "beer_abv                                 4.8\n",
       "beer_beerid                            23329\n",
       "Name: 1523, dtype: object"
      ]
     },
     "execution_count": 15,
     "metadata": {},
     "output_type": "execute_result"
    }
   ],
   "execution_count": 15
  },
  {
   "metadata": {},
   "cell_type": "code",
   "outputs": [],
   "execution_count": null,
   "source": "",
   "id": "a264cf4f120ad04e"
  }
 ],
 "metadata": {
  "kernelspec": {
   "display_name": "Python 3",
   "language": "python",
   "name": "python3"
  },
  "language_info": {
   "codemirror_mode": {
    "name": "ipython",
    "version": 2
   },
   "file_extension": ".py",
   "mimetype": "text/x-python",
   "name": "python",
   "nbconvert_exporter": "python",
   "pygments_lexer": "ipython2",
   "version": "2.7.6"
  }
 },
 "nbformat": 4,
 "nbformat_minor": 5
}
