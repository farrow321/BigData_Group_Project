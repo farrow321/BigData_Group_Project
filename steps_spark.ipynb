{
 "cells": [
  {
   "cell_type": "code",
   "id": "initial_id",
   "metadata": {
    "collapsed": true,
    "ExecuteTime": {
     "end_time": "2025-03-23T22:11:25.869067Z",
     "start_time": "2025-03-23T22:11:25.863313Z"
    }
   },
   "source": "import time",
   "outputs": [],
   "execution_count": 28
  },
  {
   "metadata": {
    "ExecuteTime": {
     "end_time": "2025-03-23T22:11:26.048853Z",
     "start_time": "2025-03-23T22:11:25.890959Z"
    }
   },
   "cell_type": "code",
   "source": [
    "from pyspark import SparkContext, SparkConf\n",
    "# If this throws a socket error, stop the context and re-run the code again, this error came up for us, \n",
    "# and we didn't know how to fix it, but re-running the code fixed it\n",
    "conf = SparkConf().set('spark.executor.memory', '16g')\\\n",
    "                    .set('spark.driver.memory', '16g')\\\n",
    "                    .setAppName(\"beer_analysis\")\\\n",
    "                    .setMaster('local[*]')\n",
    "sc = SparkContext(conf=conf)\n",
    "sc"
   ],
   "id": "c428656349f04ca1",
   "outputs": [
    {
     "data": {
      "text/plain": [
       "<SparkContext master=local[*] appName=beer_analysis>"
      ],
      "text/html": [
       "\n",
       "        <div>\n",
       "            <p><b>SparkContext</b></p>\n",
       "\n",
       "            <p><a href=\"http://172.18.123.110:4040\">Spark UI</a></p>\n",
       "\n",
       "            <dl>\n",
       "              <dt>Version</dt>\n",
       "                <dd><code>v3.5.5</code></dd>\n",
       "              <dt>Master</dt>\n",
       "                <dd><code>local[*]</code></dd>\n",
       "              <dt>AppName</dt>\n",
       "                <dd><code>beer_analysis</code></dd>\n",
       "            </dl>\n",
       "        </div>\n",
       "        "
      ]
     },
     "execution_count": 29,
     "metadata": {},
     "output_type": "execute_result"
    }
   ],
   "execution_count": 29
  },
  {
   "metadata": {
    "ExecuteTime": {
     "end_time": "2025-03-23T22:11:26.072455Z",
     "start_time": "2025-03-23T22:11:26.065118Z"
    }
   },
   "cell_type": "code",
   "source": [
    "elapsed_times_list = []\n",
    "start_time_overall = time.time()"
   ],
   "id": "697c3e26aeea7ceb",
   "outputs": [],
   "execution_count": 30
  },
  {
   "metadata": {
    "ExecuteTime": {
     "end_time": "2025-03-23T22:11:27.291442Z",
     "start_time": "2025-03-23T22:11:26.104634Z"
    }
   },
   "cell_type": "code",
   "source": [
    "# STEP 1\n",
    "start_time1 = time.time()\n",
    "\n",
    "rdd = sc.textFile('beer_reviews.csv')\n",
    "header = rdd.first()\n",
    "rdd = rdd.filter(lambda line: line != header)\n",
    "split_rdd = rdd.map(lambda x: x.split(','))\n",
    "\n",
    "end_time1 = time.time()\n",
    "elapsed_time1 = end_time1 - start_time1\n",
    "elapsed_times_list.append(elapsed_time1)\n",
    "print(f\"Elapsed time: {elapsed_time1} seconds\")"
   ],
   "id": "d6c1207789f680c9",
   "outputs": [
    {
     "name": "stdout",
     "output_type": "stream",
     "text": [
      "Elapsed time: 1.1826894283294678 seconds\n"
     ]
    }
   ],
   "execution_count": 31
  },
  {
   "metadata": {
    "ExecuteTime": {
     "end_time": "2025-03-23T22:11:31.786560Z",
     "start_time": "2025-03-23T22:11:27.303017Z"
    }
   },
   "cell_type": "code",
   "source": [
    "# STEP 2\n",
    "start_time2 = time.time()\n",
    "\n",
    "review_overall_rdd = split_rdd.map(lambda x: (float(x[4]), x))\n",
    "mapped_rdd = review_overall_rdd.filter(lambda x: x[0] == 5)\n",
    "mapped_rdd = mapped_rdd.map(lambda x: x[1])\n",
    "\n",
    "end_time2 = time.time()\n",
    "elapsed_time2 = end_time2 - start_time2\n",
    "elapsed_times_list.append(elapsed_time2)\n",
    "print(f\"Elapsed time: {elapsed_time2} seconds\")\n",
    "\n",
    "\n",
    "mapped_rdd.count()"
   ],
   "id": "a1e549df26e0d03",
   "outputs": [
    {
     "name": "stdout",
     "output_type": "stream",
     "text": [
      "Elapsed time: 0.0 seconds\n"
     ]
    },
    {
     "data": {
      "text/plain": [
       "85526"
      ]
     },
     "execution_count": 32,
     "metadata": {},
     "output_type": "execute_result"
    }
   ],
   "execution_count": 32
  },
  {
   "metadata": {
    "ExecuteTime": {
     "end_time": "2025-03-23T22:11:37.246158Z",
     "start_time": "2025-03-23T22:11:31.816427Z"
    }
   },
   "cell_type": "code",
   "source": [
    "# STEP 3\n",
    "start_time3 = time.time()\n",
    "\n",
    "processed_rdd = split_rdd.map(lambda x: (x[2], (float(x[4]), x[11])))\n",
    "top_reviews_rdd = processed_rdd.reduceByKey(lambda x,y: x if x[0] > y[0] else y)\n",
    "\n",
    "end_time3 = time.time()\n",
    "elapsed_time3 = end_time3 - start_time3\n",
    "elapsed_times_list.append(elapsed_time3)\n",
    "print(f\"Elapsed time: {elapsed_time3} seconds\")\n",
    "\n",
    "top_reviews_rdd.take(1)"
   ],
   "id": "fb2e7b8e683d5ec6",
   "outputs": [
    {
     "name": "stdout",
     "output_type": "stream",
     "text": [
      "Elapsed time: 0.010090827941894531 seconds\n"
     ]
    },
    {
     "data": {
      "text/plain": [
       "[('Pacific Coast Brewing Company', (4.5, 'Killer Whale Stout'))]"
      ]
     },
     "execution_count": 33,
     "metadata": {},
     "output_type": "execute_result"
    }
   ],
   "execution_count": 33
  },
  {
   "metadata": {
    "ExecuteTime": {
     "end_time": "2025-03-23T22:11:42.632070Z",
     "start_time": "2025-03-23T22:11:37.283606Z"
    }
   },
   "cell_type": "code",
   "source": [
    "# STEP 4\n",
    "start_time4 = time.time()\n",
    "\n",
    "processed_rdd = split_rdd.map(lambda x: (x[2], (float(x[4]),1)))\n",
    "summed_ratings_rdd = processed_rdd.reduceByKey(lambda x,y: (x[0]+y[0], x[1]+y[1]))\n",
    "avg_reviews_rdd = summed_ratings_rdd.mapValues(lambda x: round(x[0]/x[1], 3))\n",
    "\n",
    "end_time4 = time.time()\n",
    "elapsed_time4 = end_time4 - start_time4\n",
    "elapsed_times_list.append(elapsed_time4)\n",
    "print(f\"Elapsed time: {elapsed_time4} seconds\")\n",
    "\n",
    "avg_reviews_rdd.take(1)"
   ],
   "id": "8e3ba3fbf875f074",
   "outputs": [
    {
     "name": "stdout",
     "output_type": "stream",
     "text": [
      "Elapsed time: 0.023337125778198242 seconds\n"
     ]
    },
    {
     "data": {
      "text/plain": [
       "[('Pacific Coast Brewing Company', 3.432)]"
      ]
     },
     "execution_count": 34,
     "metadata": {},
     "output_type": "execute_result"
    }
   ],
   "execution_count": 34
  },
  {
   "metadata": {
    "ExecuteTime": {
     "end_time": "2025-03-23T22:11:48.084247Z",
     "start_time": "2025-03-23T22:11:42.637132Z"
    }
   },
   "cell_type": "code",
   "source": [
    "# STEP 5\n",
    "start_time5 = time.time()\n",
    "\n",
    "processed_rdd = split_rdd.map(lambda x: (x[8], 1))\n",
    "counts_rdd = processed_rdd.reduceByKey(lambda x,y: x+y)\n",
    "\n",
    "end_time5 = time.time()\n",
    "elapsed_time5 = end_time5 - start_time5\n",
    "elapsed_times_list.append(elapsed_time5)\n",
    "print(f\"Elapsed time: {elapsed_time5} seconds\")\n",
    "\n",
    "counts_rdd.take(1)"
   ],
   "id": "50d54ed462600769",
   "outputs": [
    {
     "name": "stdout",
     "output_type": "stream",
     "text": [
      "Elapsed time: 0.023610591888427734 seconds\n"
     ]
    },
    {
     "data": {
      "text/plain": [
       "[('Rauchbier', 3758)]"
      ]
     },
     "execution_count": 35,
     "metadata": {},
     "output_type": "execute_result"
    }
   ],
   "execution_count": 35
  },
  {
   "metadata": {
    "ExecuteTime": {
     "end_time": "2025-03-23T22:12:10.148981Z",
     "start_time": "2025-03-23T22:11:48.118085Z"
    }
   },
   "cell_type": "code",
   "source": [
    "# STEP 6\n",
    "start_time6 = time.time()\n",
    "\n",
    "processed_rdd = split_rdd.map(lambda x: (x[8], (float(x[5]), 1)))\n",
    "\n",
    "sum_per_style_rdd = processed_rdd.reduceByKey(lambda x, y: (x[0]+y[0], x[1]+y[1]))\n",
    "# key(sum(review_aroma, count)\n",
    "sum_per_style_rdd = sum_per_style_rdd.mapValues(lambda x: (x[0], x[1], (x[0]/x[1])))\n",
    "# key(sum(aroma), count, mean)\n",
    "\n",
    "squared_diffs = processed_rdd.join(sum_per_style_rdd).mapValues(lambda x: ((x[0][0] - x[1][2]) ** 2, 1))\n",
    "sum_squared_diffs = squared_diffs.reduceByKey(lambda x,y: (x[0]+y[0], x[1]+y[1]))\n",
    "variance_per_style = sum_squared_diffs.mapValues(lambda x: round(x[0]/x[1], 3))\n",
    "\n",
    "end_time6 = time.time()\n",
    "elapsed_time6 = end_time6 - start_time6\n",
    "elapsed_times_list.append(elapsed_time6)\n",
    "print(f\"Elapsed time: {elapsed_time6} seconds\")\n",
    "\n",
    "variance_per_style.take(1)"
   ],
   "id": "a5b320eb973c589f",
   "outputs": [
    {
     "name": "stdout",
     "output_type": "stream",
     "text": [
      "Elapsed time: 0.034923553466796875 seconds\n"
     ]
    },
    {
     "data": {
      "text/plain": [
       "[('Rauchbier', 0.408)]"
      ]
     },
     "execution_count": 36,
     "metadata": {},
     "output_type": "execute_result"
    }
   ],
   "execution_count": 36
  },
  {
   "metadata": {
    "ExecuteTime": {
     "end_time": "2025-03-23T22:12:10.245825Z",
     "start_time": "2025-03-23T22:12:10.239895Z"
    }
   },
   "cell_type": "code",
   "source": [
    "end_time_overall = time.time()\n",
    "elapsed_time_visualisation = end_time_overall - start_time_overall\n",
    "elapsed_time_no_visualisation = sum(elapsed_times_list)\n",
    "print(f\"Elapsed time: {elapsed_time_no_visualisation} seconds without visualising data\")\n",
    "print(f\"Elapsed time: {elapsed_time_visualisation} seconds with visualising data\")"
   ],
   "id": "408c0fad2147b388",
   "outputs": [
    {
     "name": "stdout",
     "output_type": "stream",
     "text": [
      "Elapsed time: 1.2746515274047852 seconds without visualising data\n",
      "Elapsed time: 44.17678499221802 seconds with visualising data\n"
     ]
    }
   ],
   "execution_count": 37
  },
  {
   "metadata": {
    "ExecuteTime": {
     "end_time": "2025-03-23T22:12:11.138699Z",
     "start_time": "2025-03-23T22:12:10.271659Z"
    }
   },
   "cell_type": "code",
   "source": "sc.stop()",
   "id": "dc5a5e4a0b0b11f3",
   "outputs": [],
   "execution_count": 38
  },
  {
   "metadata": {
    "ExecuteTime": {
     "end_time": "2025-03-23T22:12:11.156983Z",
     "start_time": "2025-03-23T22:12:11.154059Z"
    }
   },
   "cell_type": "code",
   "source": "",
   "id": "50561c9503e3c4d4",
   "outputs": [],
   "execution_count": null
  }
 ],
 "metadata": {
  "kernelspec": {
   "display_name": "Python 3",
   "language": "python",
   "name": "python3"
  },
  "language_info": {
   "codemirror_mode": {
    "name": "ipython",
    "version": 2
   },
   "file_extension": ".py",
   "mimetype": "text/x-python",
   "name": "python",
   "nbconvert_exporter": "python",
   "pygments_lexer": "ipython2",
   "version": "2.7.6"
  }
 },
 "nbformat": 4,
 "nbformat_minor": 5
}
