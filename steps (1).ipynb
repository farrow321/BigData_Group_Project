{
 "cells": [
  {
   "cell_type": "code",
   "execution_count": 11,
   "id": "initial_id",
   "metadata": {
    "ExecuteTime": {
     "end_time": "2025-03-14T17:22:25.741414Z",
     "start_time": "2025-03-14T17:22:24.531024Z"
    }
   },
   "outputs": [],
   "source": [
    "import pandas as pd\n",
    "import time "
   ]
  },
  {
   "cell_type": "code",
   "execution_count": 12,
   "id": "8b9fa595",
   "metadata": {},
   "outputs": [],
   "source": [
    "start_timeoverall = time.time()"
   ]
  },
  {
   "cell_type": "markdown",
   "id": "8681d6f0",
   "metadata": {},
   "source": [
    "#1 loading csv file "
   ]
  },
  {
   "cell_type": "code",
   "execution_count": 13,
   "id": "54af136d",
   "metadata": {},
   "outputs": [
    {
     "name": "stdout",
     "output_type": "stream",
     "text": [
      "Elapsed time: 6.816589832305908 seconds\n"
     ]
    }
   ],
   "source": [
    "start_time1 = time.time()\n",
    "df = pd.read_csv(\"beer_reviews.csv\")\n",
    "end_time1 = time.time()\n",
    "elapsed_time1 = end_time1 - start_time1\n",
    "print(f\"Elapsed time: {elapsed_time1} seconds\")"
   ]
  },
  {
   "cell_type": "markdown",
   "id": "679e2142",
   "metadata": {},
   "source": [
    "#2 which beer style is rated highest review overall"
   ]
  },
  {
   "cell_type": "code",
   "execution_count": 14,
   "id": "f3180c39",
   "metadata": {},
   "outputs": [
    {
     "name": "stdout",
     "output_type": "stream",
     "text": [
      "Elapsed time: 0.011633634567260742 seconds\n",
      "Unnamed: 0                                 11\n",
      "index                                      11\n",
      "brewery_id                               1075\n",
      "brewery_name          Caldera Brewing Company\n",
      "review_time                        1283154365\n",
      "review_overall                            5.0\n",
      "review_aroma                              5.0\n",
      "review_appearance                         4.0\n",
      "review_profilename               MadeInOregon\n",
      "beer_style               Herbed / Spiced Beer\n",
      "review_palate                             4.0\n",
      "review_taste                              4.0\n",
      "beer_name                 Caldera Ginger Beer\n",
      "beer_abv                                  4.7\n",
      "beer_beerid                             52159\n",
      "Name: 11, dtype: object\n"
     ]
    }
   ],
   "source": [
    "start_time2 = time.time()\n",
    "highest_review = df.loc[df['review_overall'].idxmax()]\n",
    "end_time2 = time.time()\n",
    "elapsed_time2 = end_time2 - start_time2\n",
    "print(f\"Elapsed time: {elapsed_time2} seconds\")\n",
    "print(highest_review)"
   ]
  },
  {
   "cell_type": "markdown",
   "id": "788f2a07",
   "metadata": {},
   "source": [
    "#3 Best beer per brewery"
   ]
  },
  {
   "cell_type": "code",
   "execution_count": 15,
   "id": "b3f9e9ea",
   "metadata": {},
   "outputs": [
    {
     "name": "stdout",
     "output_type": "stream",
     "text": [
      "Elapsed time: 1.5338494777679443 seconds\n",
      "         Unnamed: 0    index  brewery_id                 brewery_name  \\\n",
      "1518477     1586613  1586613       14359  The Defiant Brewing Company   \n",
      "1010932     1054114  1054114         718              Brouwerij Bavik   \n",
      "752613       783659   783659       13014        Surly Brewing Company   \n",
      "1132388     1182432  1182432       10099         Dogfish Head Brewery   \n",
      "858847       895323   895323         147            Stone Brewing Co.   \n",
      "...             ...      ...         ...                          ...   \n",
      "987457      1029817  1029817        3419                Hakodate Beer   \n",
      "758722       790818   790818       24879          Refined Ale Brewery   \n",
      "648724       674863   674863       26399        Bières De Carcassonne   \n",
      "1185604     1238731  1238731       22502            Red Dot Brewhouse   \n",
      "1144936     1194997  1194997        7606           Landskron Brauerei   \n",
      "\n",
      "         review_time  review_overall  review_aroma  review_appearance  \\\n",
      "1518477   1160005319             5.0           4.5                4.5   \n",
      "1010932   1154605683             5.0           4.0                4.5   \n",
      "752613    1307970036             5.0           5.0                5.0   \n",
      "1132388   1133410163             5.0           4.5                4.0   \n",
      "858847    1182527684             5.0           4.0                4.0   \n",
      "...              ...             ...           ...                ...   \n",
      "987457    1148103105             1.0           2.0                3.0   \n",
      "758722    1297647085             1.0           1.5                3.0   \n",
      "648724    1310847111             1.0           1.0                1.0   \n",
      "1185604   1271285778             1.0           1.0                2.0   \n",
      "1144936   1195386362             1.0           1.5                3.5   \n",
      "\n",
      "        review_profilename                        beer_style  review_palate  \\\n",
      "1518477               cbl2                       Pumpkin Ale            4.5   \n",
      "1010932        BEERchitect                           Witbier            4.5   \n",
      "752613            deadbody                American Brown Ale            5.0   \n",
      "1132388             Sayson  American Double / Imperial Stout            4.5   \n",
      "858847       BuckeyeNation           Belgian Strong Dark Ale            4.5   \n",
      "...                    ...                               ...            ...   \n",
      "987457              Naerhu                           Old Ale            3.0   \n",
      "758722           Thorpe429          American Amber / Red Ale            1.0   \n",
      "648724           illidurit                  Belgian Pale Ale            1.0   \n",
      "1185604     lacqueredmouse              Herbed / Spiced Beer            1.0   \n",
      "1144936         Absumaster                       Schwarzbier            1.5   \n",
      "\n",
      "         review_taste                            beer_name  beer_abv  \\\n",
      "1518477           4.5                   The Horseman's Ale      5.20   \n",
      "1010932           4.0                           Wittekerke      5.00   \n",
      "752613            5.0                         Moe's Bender      5.52   \n",
      "1132388           4.0                     World Wide Stout     18.00   \n",
      "858847            4.5     Stone 06.06.06 Vertical Epic Ale      8.66   \n",
      "...               ...                                  ...       ...   \n",
      "987457            2.0                 Shachonoyokunomubeer     10.00   \n",
      "758722            1.0                     Refined Ale Beer      4.50   \n",
      "648724            1.0                       A Bisto De Nas      5.60   \n",
      "1185604           1.0                  Monster Green Lager      5.00   \n",
      "1144936           2.0  Landskron Pupen-Schultzer Schwarzes      3.90   \n",
      "\n",
      "         beer_beerid  \n",
      "1518477        33061  \n",
      "1010932         2477  \n",
      "752613         58120  \n",
      "1132388         2392  \n",
      "858847         30928  \n",
      "...              ...  \n",
      "987457         30589  \n",
      "758722         66267  \n",
      "648724         71098  \n",
      "1185604        57545  \n",
      "1144936        38127  \n",
      "\n",
      "[5155 rows x 15 columns]\n"
     ]
    }
   ],
   "source": [
    "start_time3 = time.time()\n",
    "best_beer_per_brewery = df.sort_values(by=\"review_overall\",ascending=False).groupby(\"brewery_name\").head(1)\n",
    "end_time3 = time.time()\n",
    "elapsed_time3 = end_time3 - start_time3\n",
    "print(f\"Elapsed time: {elapsed_time3} seconds\")\n",
    "print(best_beer_per_brewery )"
   ]
  },
  {
   "cell_type": "markdown",
   "id": "5e2fbebc",
   "metadata": {},
   "source": [
    "#4 Average review_overall Score per Brewery and Identify the Top 5 Breweries"
   ]
  },
  {
   "cell_type": "code",
   "execution_count": 16,
   "id": "792f47ca",
   "metadata": {},
   "outputs": [
    {
     "name": "stdout",
     "output_type": "stream",
     "text": [
      "Elapsed time: 0.12376713752746582 seconds\n",
      "      brewery_id  avg_review_overall\n",
      "4828       24625                 5.0\n",
      "2095        5825                 5.0\n",
      "754          987                 5.0\n",
      "3893       16892                 5.0\n",
      "1647        3700                 5.0\n"
     ]
    }
   ],
   "source": [
    "start_time4 = time.time()\n",
    "average_reviews_per_brewery = df.groupby('brewery_id')['review_overall'].mean().reset_index()\n",
    "\n",
    "\n",
    "average_reviews_per_brewery.columns = ['brewery_id', 'avg_review_overall']\n",
    "\n",
    "sorted_breweries = average_reviews_per_brewery.sort_values(by='avg_review_overall', ascending=False)\n",
    "\n",
    "top_n = 5\n",
    "top_breweries = sorted_breweries.head(top_n)\n",
    "end_time4 = time.time()\n",
    "elapsed_time4 = end_time4 - start_time4\n",
    "print(f\"Elapsed time: {elapsed_time4} seconds\")\n",
    "print(top_breweries)"
   ]
  },
  {
   "cell_type": "markdown",
   "id": "fd1fb008",
   "metadata": {},
   "source": [
    "#5 most reviewed beer styles"
   ]
  },
  {
   "cell_type": "code",
   "execution_count": 17,
   "id": "4fc7f550",
   "metadata": {},
   "outputs": [
    {
     "name": "stdout",
     "output_type": "stream",
     "text": [
      "                          beer_style  review_count\n",
      "12                      American IPA        113144\n",
      "9     American Double / Imperial IPA         85105\n",
      "14           American Pale Ale (APA)         58072\n",
      "89            Russian Imperial Stout         53424\n",
      "11  American Double / Imperial Stout         50137\n",
      "17                   American Porter         46647\n",
      "2           American Amber / Red Ale         41731\n",
      "25           Belgian Strong Dark Ale         37498\n",
      "60            Fruit / Vegetable Beer         31983\n",
      "19               American Strong Ale         31350\n",
      "Elapsed time: 0.3364584445953369 seconds\n"
     ]
    }
   ],
   "source": [
    "start_time5 = time.time()\n",
    "most_reviewed_styles = df.groupby('beer_style').size().reset_index(name='review_count')\n",
    "most_reviewed_styles = most_reviewed_styles.sort_values(by='review_count', ascending=False)\n",
    "top_n = 10\n",
    "print(most_reviewed_styles.head(top_n))\n",
    "end_time5 = time.time()\n",
    "elapsed_time5 = end_time5 - start_time5\n",
    "print(f\"Elapsed time: {elapsed_time5} seconds\")"
   ]
  },
  {
   "cell_type": "markdown",
   "id": "86bf0726",
   "metadata": {},
   "source": [
    "#6 Identify the Most Polarizing Beers Based on review_aroma"
   ]
  },
  {
   "cell_type": "code",
   "execution_count": 18,
   "id": "5ba790d5",
   "metadata": {},
   "outputs": [
    {
     "name": "stdout",
     "output_type": "stream",
     "text": [
      "Elapsed time: 0.35643649101257324 seconds\n",
      "Most polarizing beers based on aroma:\n",
      "                beer_style  review_aroma\n",
      "34              Chile Beer      0.869402\n",
      "13    American Malt Liquor      0.722922\n",
      "77        Low Alcohol Beer      0.722384\n",
      "60  Fruit / Vegetable Beer      0.631992\n",
      "76             Light Lager      0.608401\n",
      "72                   Kvass      0.582146\n",
      "64                Happoshu      0.579525\n",
      "54       Euro Strong Lager      0.563096\n",
      "1   American Adjunct Lager      0.512103\n",
      "15     American Pale Lager      0.496376\n"
     ]
    }
   ],
   "source": [
    "start_time6 = time.time()\n",
    "variance_aroma_by_beer = df.groupby('beer_style')['review_aroma'].var().reset_index()\n",
    "\n",
    "\n",
    "variance_aroma_by_beer.columns = ['beer_style', 'review_aroma']\n",
    "\n",
    "most_polarizing_beers = variance_aroma_by_beer.sort_values(by='review_aroma', ascending=False)\n",
    "\n",
    "\n",
    "top_n = 10\n",
    "end_time6 = time.time()\n",
    "elapsed_time6 = end_time6 - start_time6\n",
    "print(f\"Elapsed time: {elapsed_time6} seconds\")\n",
    "print(\"Most polarizing beers based on aroma:\")\n",
    "print(most_polarizing_beers.head(top_n))"
   ]
  },
  {
   "cell_type": "code",
   "execution_count": 19,
   "id": "76f3edaf",
   "metadata": {},
   "outputs": [
    {
     "name": "stdout",
     "output_type": "stream",
     "text": [
      "Elapsed time: 9.673821449279785 seconds\n"
     ]
    }
   ],
   "source": [
    "end_timeoverall = time.time()\n",
    "elapsed_time = end_timeoverall - start_timeoverall\n",
    "print(f\"Elapsed time: {elapsed_time} seconds\")"
   ]
  }
 ],
 "metadata": {
  "kernelspec": {
   "display_name": "Python 3 (ipykernel)",
   "language": "python",
   "name": "python3"
  },
  "language_info": {
   "codemirror_mode": {
    "name": "ipython",
    "version": 3
   },
   "file_extension": ".py",
   "mimetype": "text/x-python",
   "name": "python",
   "nbconvert_exporter": "python",
   "pygments_lexer": "ipython3",
   "version": "3.9.13"
  }
 },
 "nbformat": 4,
 "nbformat_minor": 5
}
